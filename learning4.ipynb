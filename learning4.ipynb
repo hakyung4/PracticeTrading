{
 "cells": [
  {
   "cell_type": "markdown",
   "id": "7b5a3b85",
   "metadata": {},
   "source": [
    "### Creating the first function"
   ]
  },
  {
   "cell_type": "code",
   "execution_count": 1,
   "id": "fddb5248",
   "metadata": {},
   "outputs": [],
   "source": [
    "import yfinance as yf\n",
    "import pandas as pd\n",
    "import numpy as np\n",
    "import matplotlib.pyplot as plt"
   ]
  },
  {
   "cell_type": "code",
   "execution_count": 6,
   "id": "fd4f0151",
   "metadata": {},
   "outputs": [],
   "source": [
    "def test_strategy(stock, start, end, SMA):\n",
    "    df = yf.download(stock, start = start, end = end)\n",
    "    data = df.Close.to_frame()\n",
    "    data[\"ret\"] = np.log(data.Close.div(data.Close.shift(1)))\n",
    "    data[\"SMA_S\"] = data.Close.rolling(int(SMA[0])).mean()\n",
    "    data[\"SMA_L\"] = data.Close.rolling(int(SMA[1])).mean()\n",
    "    data.dropna(inplace=True)\n",
    "    data[\"position\"] = np.where(data[\"SMA_S\"] > data[\"SMA_L\"], 1, -1)\n",
    "    data[\"strategy\"] = data[\"ret\"] * data.position.shift(1)\n",
    "    data.dropna(inplace=True)\n",
    "    ret = np.exp(data[\"strategy\"].sum())\n",
    "    std = data[\"strategy\"].std() * np.sqrt(252)\n",
    "    \n",
    "    return ret, std"
   ]
  },
  {
   "cell_type": "code",
   "execution_count": 7,
   "id": "cbefc2b5",
   "metadata": {},
   "outputs": [
    {
     "name": "stdout",
     "output_type": "stream",
     "text": [
      "[*********************100%***********************]  1 of 1 completed\n"
     ]
    },
    {
     "data": {
      "text/plain": [
       "(0.8338252849495885, 0.2962800002061495)"
      ]
     },
     "execution_count": 7,
     "metadata": {},
     "output_type": "execute_result"
    }
   ],
   "source": [
    "test_strategy(\"MSFT\", \"2000-01-01\", \"2022-01-01\", (50,200))"
   ]
  },
  {
   "cell_type": "code",
   "execution_count": 8,
   "id": "72e415b6",
   "metadata": {},
   "outputs": [
    {
     "name": "stdout",
     "output_type": "stream",
     "text": [
      "[*********************100%***********************]  1 of 1 completed\n"
     ]
    },
    {
     "data": {
      "text/plain": [
       "(40.00769534684998, 0.36774097160153246)"
      ]
     },
     "execution_count": 8,
     "metadata": {},
     "output_type": "execute_result"
    }
   ],
   "source": [
    "test_strategy(\"AAPL\", \"2000-01-01\", \"2022-01-01\", (50,200))"
   ]
  },
  {
   "cell_type": "code",
   "execution_count": 9,
   "id": "ce3ece8a",
   "metadata": {},
   "outputs": [
    {
     "name": "stdout",
     "output_type": "stream",
     "text": [
      "[*********************100%***********************]  1 of 1 completed\n"
     ]
    },
    {
     "data": {
      "text/plain": [
       "(14.191947326135796, 0.5507932733833235)"
      ]
     },
     "execution_count": 9,
     "metadata": {},
     "output_type": "execute_result"
    }
   ],
   "source": [
    "test_strategy(\"TSLA\", \"2000-01-01\", \"2022-01-01\", (50,200))"
   ]
  },
  {
   "cell_type": "code",
   "execution_count": null,
   "id": "3782c051",
   "metadata": {},
   "outputs": [],
   "source": []
  }
 ],
 "metadata": {
  "kernelspec": {
   "display_name": "Python 3 (ipykernel)",
   "language": "python",
   "name": "python3"
  },
  "language_info": {
   "codemirror_mode": {
    "name": "ipython",
    "version": 3
   },
   "file_extension": ".py",
   "mimetype": "text/x-python",
   "name": "python",
   "nbconvert_exporter": "python",
   "pygments_lexer": "ipython3",
   "version": "3.9.7"
  }
 },
 "nbformat": 4,
 "nbformat_minor": 5
}
